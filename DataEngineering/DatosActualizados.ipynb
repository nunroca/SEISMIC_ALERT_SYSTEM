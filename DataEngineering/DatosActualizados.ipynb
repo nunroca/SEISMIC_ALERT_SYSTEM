{
 "cells": [
  {
   "cell_type": "code",
   "execution_count": 1,
   "metadata": {},
   "outputs": [],
   "source": [
    "from selenium import webdriver\n",
    "from selenium.webdriver.common.by import By\n",
    "from selenium.webdriver.support.ui import WebDriverWait\n",
    "from selenium.webdriver.support import expected_conditions as EC\n",
    "import pandas as pd"
   ]
  },
  {
   "cell_type": "code",
   "execution_count": 2,
   "metadata": {},
   "outputs": [
    {
     "name": "stderr",
     "output_type": "stream",
     "text": [
      "C:\\Users\\luis-\\AppData\\Local\\Temp\\ipykernel_12096\\3008020181.py:1: DeprecationWarning: executable_path has been deprecated, please pass in a Service object\n",
      "  driver = webdriver.Chrome('str/chromedriver')\n"
     ]
    }
   ],
   "source": [
    "driver = webdriver.Chrome('str/chromedriver')"
   ]
  },
  {
   "cell_type": "code",
   "execution_count": 3,
   "metadata": {},
   "outputs": [],
   "source": [
    "url = 'https://www.data.jma.go.jp/multi/quake/index.html?lang=es'\n",
    "driver.get(url)"
   ]
  },
  {
   "cell_type": "code",
   "execution_count": 4,
   "metadata": {},
   "outputs": [],
   "source": [
    "wait = WebDriverWait(driver, 10)\n",
    "tabla = wait.until(EC.presence_of_element_located((By.ID, 'quakeindex_table')))"
   ]
  },
  {
   "cell_type": "code",
   "execution_count": 6,
   "metadata": {},
   "outputs": [
    {
     "name": "stdout",
     "output_type": "stream",
     "text": [
      "    Fecha detectado el terremoto                                  Lugar  \\\n",
      "0               2023/05/11 22:32  Interior norte de Prefectura de Akita   \n",
      "1               2023/05/11 19:39      Nakadori, Prefectura de Fukushima   \n",
      "2               2023/05/11 16:26    Región Noto, Prefectura de Ishikawa   \n",
      "3               2023/05/11 15:50    Región Noto, Prefectura de Ishikawa   \n",
      "4               2023/05/11 08:50          Mares cercanos de Isla Miyako   \n",
      "..                           ...                                    ...   \n",
      "214             2023/04/12 16:54        Norte de Prefectura de Wakayama   \n",
      "215             2023/04/12 15:29      Alta mar de Prefectura de Ibaraki   \n",
      "216             2023/04/12 03:46    Alta mar de Prefectura de Fukushima   \n",
      "217             2023/04/12 02:37      Alta mar de Prefectura de Ibaraki   \n",
      "218             2023/04/12 01:20         Norte de Prefectura de Ibaraki   \n",
      "\n",
      "    Magnitud intensidad hora y fecha de registro  \n",
      "0        2.8          1         2023/05/11 22:35  \n",
      "1        2.9          1         2023/05/11 19:42  \n",
      "2        2.9          1         2023/05/11 16:29  \n",
      "3        2.4          1         2023/05/11 15:52  \n",
      "4        4.6          1         2023/05/11 08:53  \n",
      "..       ...        ...                      ...  \n",
      "214      2.4          2         2023/04/12 16:57  \n",
      "215      3.6          2         2023/04/12 15:32  \n",
      "216      4.1          3         2023/04/12 03:49  \n",
      "217      2.8          1         2023/04/12 02:40  \n",
      "218      3.1          1         2023/04/12 01:22  \n",
      "\n",
      "[219 rows x 5 columns]\n"
     ]
    }
   ],
   "source": [
    "# \n",
    "# Extraer los datos de la tabla\n",
    "datos = []\n",
    "filas = tabla.find_elements(By.TAG_NAME, 'tr')\n",
    "for fila in filas[1:]:\n",
    "    columnas = fila.find_elements(By.TAG_NAME, 'td')\n",
    "    dato_1 = columnas[0].text\n",
    "    dato_2 = columnas[1].text\n",
    "    dato_3 = columnas[2].text\n",
    "    dato_4 = columnas[3].text\n",
    "    dato_5 = columnas[4].text\n",
    "    datos.append([dato_1, dato_2, dato_3,dato_4,dato_5])\n",
    "\n",
    "# Crea un dataframe de pandas con los datos extraídos de la tabla\n",
    "df = pd.DataFrame(datos, columns=['Fecha detectado el terremoto', 'Lugar', 'Magnitud','intensidad','hora y fecha de registro'])\n",
    "\n",
    "# Cierra el navegador\n",
    "driver.quit()\n",
    "\n",
    "# Guarda el dataframe en un archivo CSV\n",
    "df.to_csv('str/Datosactualizados.csv', index=False)\n",
    "\n",
    "# Imprime el dataframe para verificar que se haya creado correctamente\n",
    "print(df)"
   ]
  }
 ],
 "metadata": {
  "kernelspec": {
   "display_name": "Python 3.11.0 64-bit",
   "language": "python",
   "name": "python3"
  },
  "language_info": {
   "codemirror_mode": {
    "name": "ipython",
    "version": 3
   },
   "file_extension": ".py",
   "mimetype": "text/x-python",
   "name": "python",
   "nbconvert_exporter": "python",
   "pygments_lexer": "ipython3",
   "version": "3.11.0"
  },
  "orig_nbformat": 4,
  "vscode": {
   "interpreter": {
    "hash": "5238573367df39f7286bb46f9ff5f08f63a01a80960060ce41e3c79b190280fa"
   }
  }
 },
 "nbformat": 4,
 "nbformat_minor": 2
}
