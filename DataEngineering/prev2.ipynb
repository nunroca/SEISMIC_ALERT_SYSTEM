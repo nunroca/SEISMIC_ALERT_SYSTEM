{
 "cells": [
  {
   "cell_type": "code",
   "execution_count": 24,
   "metadata": {},
   "outputs": [],
   "source": [
    "import requests\n",
    "from bs4 import BeautifulSoup\n",
    "import pandas as pd                 # dataframes\n",
    "\n",
    "\n",
    "import datetime   #para normalizar fechas\n",
    "import time  #para obtener fechas\n",
    "from dateutil.rrule import rrule, DAILY , MONTHLY   #hacer los calendarios de iteración"
   ]
  },
  {
   "attachments": {},
   "cell_type": "markdown",
   "metadata": {},
   "source": [
    "##### Se establece el rango de fechas"
   ]
  },
  {
   "cell_type": "code",
   "execution_count": 35,
   "metadata": {},
   "outputs": [],
   "source": [
    "def fechas():\n",
    "    ''' \n",
    "    Función:Definimos las fechas de inicio y fin\n",
    "    Entrada:\n",
    "    Salida: Fechas a cargar en db\n",
    "    '''\n",
    "    #Fecha inicio\n",
    "    a = datetime.date(2022, 1, 1)\n",
    "    #Fecha fin\n",
    "    b = datetime.date(2022, 12, 31)\n",
    "    return a,b"
   ]
  },
  {
   "attachments": {},
   "cell_type": "markdown",
   "metadata": {},
   "source": [
    "##### Se establece la funcion de generaciòn de url por fecha"
   ]
  },
  {
   "cell_type": "code",
   "execution_count": 29,
   "metadata": {},
   "outputs": [],
   "source": [
    "def get_url_chile(dat):\n",
    "    year=dat.strftime(\"%Y\")\n",
    "    month=dat.strftime(\"%m\")\n",
    "    day=dat.strftime('%Y%m%d')\n",
    "\n",
    "    url=f\"https://www.sismologia.cl/sismicidad/catalogo/{year}/{month}/{day}.html\"\n",
    "    urlx = requests.get (url)\n",
    "    soup = BeautifulSoup(urlx.content,\"html.parser\")\n",
    "    rows = soup.find(\"table\", attrs={\"class\":\"sismologia detalle\"}).find_all(\"tr\")\n",
    "    return  rows "
   ]
  },
  {
   "attachments": {},
   "cell_type": "markdown",
   "metadata": {},
   "source": [
    "##### Se realiza el web scraping dia por dia"
   ]
  },
  {
   "cell_type": "code",
   "execution_count": 32,
   "metadata": {},
   "outputs": [],
   "source": [
    "a,b=fechas()\n",
    "data=[]\n",
    "for dat in rrule(DAILY,dtstart=a,until=b):\n",
    "    rows=get_url_chile(dat)\n",
    "    \n",
    "    for row in rows:\n",
    "        cells = row.find_all(\"td\")\n",
    "        row_data = []\n",
    "        for cell in cells:\n",
    "            row_data.append(cell.text.strip())\n",
    "        data.append(row_data)\n",
    "    "
   ]
  },
  {
   "attachments": {},
   "cell_type": "markdown",
   "metadata": {},
   "source": [
    "##### Se genera la tabla a revisar"
   ]
  },
  {
   "cell_type": "code",
   "execution_count": 33,
   "metadata": {},
   "outputs": [],
   "source": [
    "df =pd.DataFrame(data, columns=[\"Fecha Local / Lugar\",\"Fecha UTC\",\"Latitud / Longitud\",\"Profundidad\",\"Magnitud\"])"
   ]
  },
  {
   "cell_type": "code",
   "execution_count": 36,
   "metadata": {},
   "outputs": [
    {
     "data": {
      "text/html": [
       "<div>\n",
       "<style scoped>\n",
       "    .dataframe tbody tr th:only-of-type {\n",
       "        vertical-align: middle;\n",
       "    }\n",
       "\n",
       "    .dataframe tbody tr th {\n",
       "        vertical-align: top;\n",
       "    }\n",
       "\n",
       "    .dataframe thead th {\n",
       "        text-align: right;\n",
       "    }\n",
       "</style>\n",
       "<table border=\"1\" class=\"dataframe\">\n",
       "  <thead>\n",
       "    <tr style=\"text-align: right;\">\n",
       "      <th></th>\n",
       "      <th>Fecha Local / Lugar</th>\n",
       "      <th>Fecha UTC</th>\n",
       "      <th>Latitud / Longitud</th>\n",
       "      <th>Profundidad</th>\n",
       "      <th>Magnitud</th>\n",
       "    </tr>\n",
       "  </thead>\n",
       "  <tbody>\n",
       "    <tr>\n",
       "      <th>0</th>\n",
       "      <td>None</td>\n",
       "      <td>None</td>\n",
       "      <td>None</td>\n",
       "      <td>None</td>\n",
       "      <td>None</td>\n",
       "    </tr>\n",
       "    <tr>\n",
       "      <th>1</th>\n",
       "      <td>2022-01-01 19:57:1837 km al SO de Mina Collahuasi</td>\n",
       "      <td>2022-01-01 22:57:18</td>\n",
       "      <td>-21.098 -68.863</td>\n",
       "      <td>109 km</td>\n",
       "      <td>2.7 Ml</td>\n",
       "    </tr>\n",
       "    <tr>\n",
       "      <th>2</th>\n",
       "      <td>2022-01-01 18:53:3018 km al N de Ovalle</td>\n",
       "      <td>2022-01-01 21:53:30</td>\n",
       "      <td>-30.443 -71.236</td>\n",
       "      <td>24 km</td>\n",
       "      <td>2.7 Ml</td>\n",
       "    </tr>\n",
       "    <tr>\n",
       "      <th>3</th>\n",
       "      <td>2022-01-01 18:26:14100 km al SE de Socaire</td>\n",
       "      <td>2022-01-01 21:26:14</td>\n",
       "      <td>-24.323 -67.312</td>\n",
       "      <td>175 km</td>\n",
       "      <td>3.3 Ml</td>\n",
       "    </tr>\n",
       "  </tbody>\n",
       "</table>\n",
       "</div>"
      ],
      "text/plain": [
       "                                 Fecha Local / Lugar            Fecha UTC   \n",
       "0                                               None                 None  \\\n",
       "1  2022-01-01 19:57:1837 km al SO de Mina Collahuasi  2022-01-01 22:57:18   \n",
       "2            2022-01-01 18:53:3018 km al N de Ovalle  2022-01-01 21:53:30   \n",
       "3         2022-01-01 18:26:14100 km al SE de Socaire  2022-01-01 21:26:14   \n",
       "\n",
       "  Latitud / Longitud Profundidad Magnitud  \n",
       "0               None        None     None  \n",
       "1    -21.098 -68.863      109 km   2.7 Ml  \n",
       "2    -30.443 -71.236       24 km   2.7 Ml  \n",
       "3    -24.323 -67.312      175 km   3.3 Ml  "
      ]
     },
     "execution_count": 36,
     "metadata": {},
     "output_type": "execute_result"
    }
   ],
   "source": [
    "df.head(4)"
   ]
  },
  {
   "cell_type": "code",
   "execution_count": 37,
   "metadata": {},
   "outputs": [
    {
     "name": "stdout",
     "output_type": "stream",
     "text": [
      "<class 'pandas.core.frame.DataFrame'>\n",
      "RangeIndex: 7723 entries, 0 to 7722\n",
      "Data columns (total 5 columns):\n",
      " #   Column               Non-Null Count  Dtype \n",
      "---  ------               --------------  ----- \n",
      " 0   Fecha Local / Lugar  7358 non-null   object\n",
      " 1   Fecha UTC            7358 non-null   object\n",
      " 2   Latitud / Longitud   7358 non-null   object\n",
      " 3   Profundidad          7358 non-null   object\n",
      " 4   Magnitud             7358 non-null   object\n",
      "dtypes: object(5)\n",
      "memory usage: 301.8+ KB\n"
     ]
    }
   ],
   "source": [
    "df.info()"
   ]
  }
 ],
 "metadata": {
  "kernelspec": {
   "display_name": "Python 3",
   "language": "python",
   "name": "python3"
  },
  "language_info": {
   "codemirror_mode": {
    "name": "ipython",
    "version": 3
   },
   "file_extension": ".py",
   "mimetype": "text/x-python",
   "name": "python",
   "nbconvert_exporter": "python",
   "pygments_lexer": "ipython3",
   "version": "3.10.11"
  },
  "orig_nbformat": 4
 },
 "nbformat": 4,
 "nbformat_minor": 2
}
