{
 "cells": [
  {
   "cell_type": "code",
   "execution_count": 10,
   "metadata": {},
   "outputs": [],
   "source": [
    "import mysql.connector\n",
    "import pandas as pd\n",
    "import matplotlib.pyplot as plt\n",
    "import seaborn as sns"
   ]
  },
  {
   "cell_type": "code",
   "execution_count": 11,
   "metadata": {},
   "outputs": [],
   "source": [
    "# Information of the AMAZON REDSHIFT database.\n",
    "host = \"database-alertas-sismicas.crcnepco0igw.us-east-1.rds.amazonaws.com\"\n",
    "user = \"admin\"\n",
    "password = \"admin4168\"\n",
    "database = \"alertasSismicas\""
   ]
  },
  {
   "cell_type": "code",
   "execution_count": 12,
   "metadata": {},
   "outputs": [],
   "source": [
    "# Opening the conection to the database\n",
    "connection = mysql.connector.connect(\n",
    "    host = host,\n",
    "    user = user,\n",
    "    password = password,\n",
    "    database = database\n",
    ")\n",
    "\n"
   ]
  },
  {
   "cell_type": "code",
   "execution_count": 13,
   "metadata": {},
   "outputs": [
    {
     "data": {
      "text/plain": [
       "[('CHILE',),\n",
       " ('COUNTRIES',),\n",
       " ('FACTS',),\n",
       " ('FACTS2',),\n",
       " ('JAPAN',),\n",
       " ('SISMOTEST',),\n",
       " ('TSUNAMIS',),\n",
       " ('USA',)]"
      ]
     },
     "execution_count": 13,
     "metadata": {},
     "output_type": "execute_result"
    }
   ],
   "source": [
    "# Executing a query to confirm if its working\n",
    "cursor = connection.cursor()\n",
    "cursor.execute(\"SHOW TABLES\")\n",
    "tables = cursor.fetchall()\n",
    "tables"
   ]
  },
  {
   "cell_type": "code",
   "execution_count": 14,
   "metadata": {},
   "outputs": [
    {
     "name": "stderr",
     "output_type": "stream",
     "text": [
      "C:\\Users\\juanp\\AppData\\Local\\Temp\\ipykernel_13484\\2150596333.py:3: UserWarning: pandas only supports SQLAlchemy connectable (engine/connection) or database string URI or sqlite3 DBAPI2 connection. Other DBAPI2 objects are not tested. Please consider using SQLAlchemy.\n",
      "  FACTS2 = pd.read_sql(query, connection)\n"
     ]
    },
    {
     "data": {
      "text/html": [
       "<div>\n",
       "<style scoped>\n",
       "    .dataframe tbody tr th:only-of-type {\n",
       "        vertical-align: middle;\n",
       "    }\n",
       "\n",
       "    .dataframe tbody tr th {\n",
       "        vertical-align: top;\n",
       "    }\n",
       "\n",
       "    .dataframe thead th {\n",
       "        text-align: right;\n",
       "    }\n",
       "</style>\n",
       "<table border=\"1\" class=\"dataframe\">\n",
       "  <thead>\n",
       "    <tr style=\"text-align: right;\">\n",
       "      <th></th>\n",
       "      <th>FactId</th>\n",
       "      <th>idcountry</th>\n",
       "      <th>mag</th>\n",
       "      <th>place</th>\n",
       "      <th>time</th>\n",
       "      <th>tsunami</th>\n",
       "      <th>Ing</th>\n",
       "      <th>lat</th>\n",
       "      <th>depth</th>\n",
       "      <th>danger</th>\n",
       "    </tr>\n",
       "  </thead>\n",
       "  <tbody>\n",
       "    <tr>\n",
       "      <th>0</th>\n",
       "      <td>1-16587</td>\n",
       "      <td>1</td>\n",
       "      <td>3.1</td>\n",
       "      <td>16 km S of Smiley, Texas</td>\n",
       "      <td>2023-05-22 08:36:25</td>\n",
       "      <td>0</td>\n",
       "      <td>-97.650620</td>\n",
       "      <td>29.120178</td>\n",
       "      <td>5.062134</td>\n",
       "      <td>3</td>\n",
       "    </tr>\n",
       "    <tr>\n",
       "      <th>1</th>\n",
       "      <td>1-16588</td>\n",
       "      <td>1</td>\n",
       "      <td>3.1</td>\n",
       "      <td>58 km S of Whites City, New Mexico</td>\n",
       "      <td>2023-05-22 14:20:30</td>\n",
       "      <td>0</td>\n",
       "      <td>-104.321792</td>\n",
       "      <td>31.654087</td>\n",
       "      <td>6.851392</td>\n",
       "      <td>3</td>\n",
       "    </tr>\n",
       "  </tbody>\n",
       "</table>\n",
       "</div>"
      ],
      "text/plain": [
       "    FactId  idcountry  mag                               place  \\\n",
       "0  1-16587          1  3.1            16 km S of Smiley, Texas   \n",
       "1  1-16588          1  3.1  58 km S of Whites City, New Mexico   \n",
       "\n",
       "                 time tsunami         Ing        lat     depth  danger  \n",
       "0 2023-05-22 08:36:25       0  -97.650620  29.120178  5.062134       3  \n",
       "1 2023-05-22 14:20:30       0 -104.321792  31.654087  6.851392       3  "
      ]
     },
     "execution_count": 14,
     "metadata": {},
     "output_type": "execute_result"
    }
   ],
   "source": [
    "# SELECTING the table \"SISMOTEST\" and giving the info to a pandas dataframe\n",
    "query = (\"SELECT * FROM FACTS2;\")\n",
    "FACTS2 = pd.read_sql(query, connection)\n",
    "FACTS2.head(2)"
   ]
  },
  {
   "cell_type": "code",
   "execution_count": 15,
   "metadata": {},
   "outputs": [
    {
     "name": "stdout",
     "output_type": "stream",
     "text": [
      "<class 'pandas.core.frame.DataFrame'>\n",
      "RangeIndex: 67 entries, 0 to 66\n",
      "Data columns (total 10 columns):\n",
      " #   Column     Non-Null Count  Dtype         \n",
      "---  ------     --------------  -----         \n",
      " 0   FactId     67 non-null     object        \n",
      " 1   idcountry  67 non-null     int64         \n",
      " 2   mag        67 non-null     float64       \n",
      " 3   place      67 non-null     object        \n",
      " 4   time       67 non-null     datetime64[ns]\n",
      " 5   tsunami    67 non-null     object        \n",
      " 6   Ing        67 non-null     float64       \n",
      " 7   lat        67 non-null     float64       \n",
      " 8   depth      67 non-null     float64       \n",
      " 9   danger     67 non-null     int64         \n",
      "dtypes: datetime64[ns](1), float64(4), int64(2), object(3)\n",
      "memory usage: 5.4+ KB\n"
     ]
    }
   ],
   "source": [
    "FACTS2.info()"
   ]
  },
  {
   "cell_type": "code",
   "execution_count": 16,
   "metadata": {},
   "outputs": [
    {
     "name": "stderr",
     "output_type": "stream",
     "text": [
      "C:\\Users\\juanp\\AppData\\Local\\Temp\\ipykernel_13484\\2509127209.py:3: UserWarning: pandas only supports SQLAlchemy connectable (engine/connection) or database string URI or sqlite3 DBAPI2 connection. Other DBAPI2 objects are not tested. Please consider using SQLAlchemy.\n",
      "  facts = pd.read_sql(query, connection)\n"
     ]
    },
    {
     "data": {
      "text/html": [
       "<div>\n",
       "<style scoped>\n",
       "    .dataframe tbody tr th:only-of-type {\n",
       "        vertical-align: middle;\n",
       "    }\n",
       "\n",
       "    .dataframe tbody tr th {\n",
       "        vertical-align: top;\n",
       "    }\n",
       "\n",
       "    .dataframe thead th {\n",
       "        text-align: right;\n",
       "    }\n",
       "</style>\n",
       "<table border=\"1\" class=\"dataframe\">\n",
       "  <thead>\n",
       "    <tr style=\"text-align: right;\">\n",
       "      <th></th>\n",
       "      <th>idsismo</th>\n",
       "      <th>idcountry</th>\n",
       "      <th>mag</th>\n",
       "      <th>place</th>\n",
       "      <th>time</th>\n",
       "      <th>tsunami</th>\n",
       "      <th>lng</th>\n",
       "      <th>lat</th>\n",
       "      <th>depth</th>\n",
       "      <th>danger</th>\n",
       "    </tr>\n",
       "  </thead>\n",
       "  <tbody>\n",
       "    <tr>\n",
       "      <th>0</th>\n",
       "      <td>1</td>\n",
       "      <td>2</td>\n",
       "      <td>3.24</td>\n",
       "      <td>11km N of Delta, B.C., MX</td>\n",
       "      <td>2009-12-31 21:33:42</td>\n",
       "      <td>0</td>\n",
       "      <td>-115.202833</td>\n",
       "      <td>32.453833</td>\n",
       "      <td>5.995</td>\n",
       "      <td>2</td>\n",
       "    </tr>\n",
       "    <tr>\n",
       "      <th>1</th>\n",
       "      <td>2</td>\n",
       "      <td>2</td>\n",
       "      <td>3.00</td>\n",
       "      <td>10 km SW of Fairview, Wyoming</td>\n",
       "      <td>2009-12-31 23:13:44</td>\n",
       "      <td>0</td>\n",
       "      <td>-111.058000</td>\n",
       "      <td>42.616000</td>\n",
       "      <td>5.000</td>\n",
       "      <td>2</td>\n",
       "    </tr>\n",
       "  </tbody>\n",
       "</table>\n",
       "</div>"
      ],
      "text/plain": [
       "   idsismo  idcountry   mag                          place  \\\n",
       "0        1          2  3.24      11km N of Delta, B.C., MX   \n",
       "1        2          2  3.00  10 km SW of Fairview, Wyoming   \n",
       "\n",
       "                 time tsunami         lng        lat  depth  danger  \n",
       "0 2009-12-31 21:33:42       0 -115.202833  32.453833  5.995       2  \n",
       "1 2009-12-31 23:13:44       0 -111.058000  42.616000  5.000       2  "
      ]
     },
     "execution_count": 16,
     "metadata": {},
     "output_type": "execute_result"
    }
   ],
   "source": [
    "# SELECTING the table \"FACTS\" and giving the info to a pandas dataframe\n",
    "query = (\"SELECT * FROM FACTS;\")\n",
    "facts = pd.read_sql(query, connection)\n",
    "facts.head(2)"
   ]
  },
  {
   "cell_type": "code",
   "execution_count": 17,
   "metadata": {},
   "outputs": [
    {
     "name": "stdout",
     "output_type": "stream",
     "text": [
      "<class 'pandas.core.frame.DataFrame'>\n",
      "RangeIndex: 40579 entries, 0 to 40578\n",
      "Data columns (total 10 columns):\n",
      " #   Column     Non-Null Count  Dtype         \n",
      "---  ------     --------------  -----         \n",
      " 0   idsismo    40579 non-null  int64         \n",
      " 1   idcountry  40579 non-null  int64         \n",
      " 2   mag        40579 non-null  float64       \n",
      " 3   place      40579 non-null  object        \n",
      " 4   time       40579 non-null  datetime64[ns]\n",
      " 5   tsunami    40579 non-null  object        \n",
      " 6   lng        40579 non-null  float64       \n",
      " 7   lat        40579 non-null  float64       \n",
      " 8   depth      40579 non-null  float64       \n",
      " 9   danger     40579 non-null  int64         \n",
      "dtypes: datetime64[ns](1), float64(4), int64(3), object(2)\n",
      "memory usage: 3.1+ MB\n"
     ]
    }
   ],
   "source": [
    "facts.info()"
   ]
  },
  {
   "cell_type": "code",
   "execution_count": 18,
   "metadata": {},
   "outputs": [
    {
     "name": "stderr",
     "output_type": "stream",
     "text": [
      "C:\\Users\\juanp\\AppData\\Local\\Temp\\ipykernel_13484\\3099851293.py:3: UserWarning: pandas only supports SQLAlchemy connectable (engine/connection) or database string URI or sqlite3 DBAPI2 connection. Other DBAPI2 objects are not tested. Please consider using SQLAlchemy.\n",
      "  japan = pd.read_sql(query, connection)\n"
     ]
    },
    {
     "data": {
      "text/html": [
       "<div>\n",
       "<style scoped>\n",
       "    .dataframe tbody tr th:only-of-type {\n",
       "        vertical-align: middle;\n",
       "    }\n",
       "\n",
       "    .dataframe tbody tr th {\n",
       "        vertical-align: top;\n",
       "    }\n",
       "\n",
       "    .dataframe thead th {\n",
       "        text-align: right;\n",
       "    }\n",
       "</style>\n",
       "<table border=\"1\" class=\"dataframe\">\n",
       "  <thead>\n",
       "    <tr style=\"text-align: right;\">\n",
       "      <th></th>\n",
       "      <th>idsismo</th>\n",
       "      <th>idcountry</th>\n",
       "      <th>mag</th>\n",
       "      <th>place</th>\n",
       "      <th>time</th>\n",
       "      <th>tsunami</th>\n",
       "      <th>lng</th>\n",
       "      <th>lat</th>\n",
       "      <th>depth</th>\n",
       "      <th>danger</th>\n",
       "    </tr>\n",
       "  </thead>\n",
       "  <tbody>\n",
       "    <tr>\n",
       "      <th>0</th>\n",
       "      <td>1</td>\n",
       "      <td>3</td>\n",
       "      <td>4.3</td>\n",
       "      <td>35 km S of Shizunai-furukawach?, Japan</td>\n",
       "      <td>2010-01-06 15:39:40</td>\n",
       "      <td>0</td>\n",
       "      <td>142.291</td>\n",
       "      <td>42.017</td>\n",
       "      <td>70.2</td>\n",
       "      <td>2</td>\n",
       "    </tr>\n",
       "    <tr>\n",
       "      <th>1</th>\n",
       "      <td>2</td>\n",
       "      <td>3</td>\n",
       "      <td>4.4</td>\n",
       "      <td>105 km NE of Hasaki, Japan</td>\n",
       "      <td>2010-01-06 20:36:07</td>\n",
       "      <td>0</td>\n",
       "      <td>141.775</td>\n",
       "      <td>36.294</td>\n",
       "      <td>37.5</td>\n",
       "      <td>2</td>\n",
       "    </tr>\n",
       "  </tbody>\n",
       "</table>\n",
       "</div>"
      ],
      "text/plain": [
       "   idsismo  idcountry  mag                                   place  \\\n",
       "0        1          3  4.3  35 km S of Shizunai-furukawach?, Japan   \n",
       "1        2          3  4.4              105 km NE of Hasaki, Japan   \n",
       "\n",
       "                 time tsunami      lng     lat  depth  danger  \n",
       "0 2010-01-06 15:39:40       0  142.291  42.017   70.2       2  \n",
       "1 2010-01-06 20:36:07       0  141.775  36.294   37.5       2  "
      ]
     },
     "execution_count": 18,
     "metadata": {},
     "output_type": "execute_result"
    }
   ],
   "source": [
    "# SELECTING the table \"JAPAN\" and giving the info to a pandas dataframe\n",
    "query = (\"SELECT * FROM JAPAN;\")\n",
    "japan = pd.read_sql(query, connection)\n",
    "japan.head(2)"
   ]
  },
  {
   "cell_type": "code",
   "execution_count": 19,
   "metadata": {},
   "outputs": [
    {
     "name": "stderr",
     "output_type": "stream",
     "text": [
      "C:\\Users\\juanp\\AppData\\Local\\Temp\\ipykernel_13484\\630404544.py:3: UserWarning: pandas only supports SQLAlchemy connectable (engine/connection) or database string URI or sqlite3 DBAPI2 connection. Other DBAPI2 objects are not tested. Please consider using SQLAlchemy.\n",
      "  usa = pd.read_sql(query, connection)\n"
     ]
    },
    {
     "data": {
      "text/html": [
       "<div>\n",
       "<style scoped>\n",
       "    .dataframe tbody tr th:only-of-type {\n",
       "        vertical-align: middle;\n",
       "    }\n",
       "\n",
       "    .dataframe tbody tr th {\n",
       "        vertical-align: top;\n",
       "    }\n",
       "\n",
       "    .dataframe thead th {\n",
       "        text-align: right;\n",
       "    }\n",
       "</style>\n",
       "<table border=\"1\" class=\"dataframe\">\n",
       "  <thead>\n",
       "    <tr style=\"text-align: right;\">\n",
       "      <th></th>\n",
       "      <th>idsismo</th>\n",
       "      <th>idcountry</th>\n",
       "      <th>mag</th>\n",
       "      <th>place</th>\n",
       "      <th>time</th>\n",
       "      <th>tsunami</th>\n",
       "      <th>lng</th>\n",
       "      <th>lat</th>\n",
       "      <th>depth</th>\n",
       "      <th>danger</th>\n",
       "    </tr>\n",
       "  </thead>\n",
       "  <tbody>\n",
       "    <tr>\n",
       "      <th>0</th>\n",
       "      <td>1</td>\n",
       "      <td>2</td>\n",
       "      <td>3.24</td>\n",
       "      <td>11km N of Delta, B.C., MX</td>\n",
       "      <td>2009-12-31 21:33:42</td>\n",
       "      <td>0</td>\n",
       "      <td>-115.202833</td>\n",
       "      <td>32.453833</td>\n",
       "      <td>5.995</td>\n",
       "      <td>2</td>\n",
       "    </tr>\n",
       "    <tr>\n",
       "      <th>1</th>\n",
       "      <td>2</td>\n",
       "      <td>2</td>\n",
       "      <td>3.00</td>\n",
       "      <td>10 km SW of Fairview, Wyoming</td>\n",
       "      <td>2009-12-31 23:13:44</td>\n",
       "      <td>0</td>\n",
       "      <td>-111.058000</td>\n",
       "      <td>42.616000</td>\n",
       "      <td>5.000</td>\n",
       "      <td>2</td>\n",
       "    </tr>\n",
       "  </tbody>\n",
       "</table>\n",
       "</div>"
      ],
      "text/plain": [
       "   idsismo  idcountry   mag                          place  \\\n",
       "0        1          2  3.24      11km N of Delta, B.C., MX   \n",
       "1        2          2  3.00  10 km SW of Fairview, Wyoming   \n",
       "\n",
       "                 time tsunami         lng        lat  depth  danger  \n",
       "0 2009-12-31 21:33:42       0 -115.202833  32.453833  5.995       2  \n",
       "1 2009-12-31 23:13:44       0 -111.058000  42.616000  5.000       2  "
      ]
     },
     "execution_count": 19,
     "metadata": {},
     "output_type": "execute_result"
    }
   ],
   "source": [
    "# SELECTING the table \"USA\" and giving the info to a pandas dataframe\n",
    "query = (\"SELECT * FROM USA;\")\n",
    "usa = pd.read_sql(query, connection)\n",
    "usa.head(2)"
   ]
  },
  {
   "cell_type": "code",
   "execution_count": 20,
   "metadata": {},
   "outputs": [],
   "source": [
    "# Closing the conection with the database\n",
    "connection.close()"
   ]
  }
 ],
 "metadata": {
  "kernelspec": {
   "display_name": "sl_venv",
   "language": "python",
   "name": "python3"
  },
  "language_info": {
   "codemirror_mode": {
    "name": "ipython",
    "version": 3
   },
   "file_extension": ".py",
   "mimetype": "text/x-python",
   "name": "python",
   "nbconvert_exporter": "python",
   "pygments_lexer": "ipython3",
   "version": "3.11.0"
  },
  "orig_nbformat": 4
 },
 "nbformat": 4,
 "nbformat_minor": 2
}
